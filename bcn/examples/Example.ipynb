{
 "cells": [
  {
   "cell_type": "code",
   "execution_count": 1,
   "metadata": {},
   "outputs": [],
   "source": [
    "from __future__ import division, absolute_import\n",
    "\n",
    "import numpy as np\n",
    "\n",
    "from bcn.bias import guess_func\n",
    "from bcn.data import DataSimulated, estimate_partial_signal_characterists\n",
    "from bcn.cost import Cost\n",
    "from bcn.solvers import ConjugateGradientSolver\n",
    "from bcn.linear_operators import LinearOperatorCustom, possible_measurements\n",
    "\n",
    "import pylab as pl"
   ]
  },
  {
   "cell_type": "code",
   "execution_count": 2,
   "metadata": {},
   "outputs": [],
   "source": [
    "np.random.seed(seed=42)"
   ]
  },
  {
   "cell_type": "code",
   "execution_count": 3,
   "metadata": {},
   "outputs": [
    {
     "data": {
      "image/png": "[encoded data removed]",
      "text/plain": [
       "<Figure size 360x360 with 1 Axes>"
      ]
     },
     "metadata": {},
     "output_type": "display_data"
    }
   ],
   "source": [
    "fig = pl.figure(figsize=(5, 5))\n",
    "ax = fig.add_subplot(111)\n",
    "ax.plot([1,2,3,4], [5, 6, 7, 8], '.')\n",
    "ax.set_xlabel('features')\n",
    "ax.set_ylabel('samples')\n",
    "fig.savefig('test')"
   ]
  },
  {
   "cell_type": "code",
   "execution_count": 22,
   "metadata": {},
   "outputs": [],
   "source": [
    "# Setup of general parameters for the recovery experiment.\n",
    "sparsity = 2\n",
    "n_restarts = 10\n",
    "rank = 6\n",
    "n_measurements = 10000\n",
    "shape = (100, 110) # samples, features\n",
    "missing_fraction = 0.1\n",
    "noise_amplitude = 30.0\n",
    "m_blocks_size = 50 # size of each block\n",
    "correlation_threshold = 0.9\n",
    "bias_model = 'image'"
   ]
  },
  {
   "cell_type": "code",
   "execution_count": 23,
   "metadata": {},
   "outputs": [
    {
     "data": {
      "text/plain": [
       "{'m_blocks=2/2 (actual case)': 'TODO',\n",
       " 'm_blocks=2/2 (worst case)': 509850,\n",
       " 'm_blocks=50/55 (best case)': 9900}"
      ]
     },
     "execution_count": 23,
     "metadata": {},
     "output_type": "execute_result"
    }
   ],
   "source": [
    "# Number of possible measurements (more equals better signal recovery) \n",
    "possible_measurements(shape, missing_fraction, m_blocks_size=m_blocks_size)"
   ]
  },
  {
   "cell_type": "code",
   "execution_count": 24,
   "metadata": {},
   "outputs": [],
   "source": [
    "# Creation of the corrupted signal.\n",
    "truth = DataSimulated(shape, rank, bias_model=bias_model, correlation_threshold=correlation_threshold, m_blocks_size=m_blocks_size, noise_amplitude=noise_amplitude, missing_fraction=missing_fraction)\n",
    "mixed = truth.d['sample']['mixed']"
   ]
  },
  {
   "cell_type": "code",
   "execution_count": 25,
   "metadata": {},
   "outputs": [],
   "source": [
    "true_pairs = {'sample': truth.d['sample']['true_pairs'], 'feature': truth.d['feature']['true_pairs']}\n",
    "true_directions = {'sample': truth.d['sample']['true_directions'], 'feature': truth.d['feature']['true_directions']}\n",
    "true_stds = {'sample': truth.d['sample']['true_stds'], 'feature': truth.d['feature']['true_stds']}"
   ]
  },
  {
   "cell_type": "code",
   "execution_count": 26,
   "metadata": {},
   "outputs": [],
   "source": [
    "signal_characterists = estimate_partial_signal_characterists(mixed, correlation_threshold, true_pairs=true_pairs, true_directions=true_directions, true_stds=true_stds)"
   ]
  },
  {
   "cell_type": "code",
   "execution_count": 27,
   "metadata": {},
   "outputs": [],
   "source": [
    "# Construct measurements from corrupted signal and its estimated partial characteristics.\n",
    "operator = LinearOperatorCustom(n_measurements)\n",
    "measurements = operator.generate(signal_characterists)"
   ]
  },
  {
   "cell_type": "code",
   "execution_count": 28,
   "metadata": {},
   "outputs": [],
   "source": [
    "# Construct cost function.\n",
    "cost = Cost(measurements['A'], measurements['y'], sparsity)"
   ]
  },
  {
   "cell_type": "code",
   "execution_count": 29,
   "metadata": {},
   "outputs": [],
   "source": [
    "# Recover the bias.\n",
    "solver = ConjugateGradientSolver(mixed, cost.cost_func, guess_func, rank, n_restarts, verbosity=0)\n",
    "results = solver.recover()"
   ]
  },
  {
   "cell_type": "code",
   "execution_count": 30,
   "metadata": {},
   "outputs": [
    {
     "name": "stdout",
     "output_type": "stream",
     "text": [
      "error_cost_func_true_bias 2.903330946458054e-14\n",
      "error_cost_func_estimated_bias 1.5002761437752586e-14\n",
      "number of valid values 9900\n",
      "mean_absolute_error_true_signal 1.1902699995658742e-17\n",
      "mean_absolute_error_estimated_signal 6.798776909820044e-08\n",
      "mean_absolute_error_zeros 0.187283140416693\n",
      "ratio_estimated_signal_to_zeros 3.6302129997890897e-07\n"
     ]
    }
   ],
   "source": [
    "# Recovery performance statistics.\n",
    "error_cost_func_true_bias = cost.cost_func(truth.d['sample']['true_bias'])\n",
    "error_cost_func_estimated_bias = cost.cost_func(results['estimated_bias'])\n",
    "print 'error_cost_func_true_bias', error_cost_func_true_bias\n",
    "print 'error_cost_func_estimated_bias', error_cost_func_estimated_bias\n",
    "\n",
    "divisor = np.sum(~np.isnan(mixed))\n",
    "print 'number of valid values', divisor\n",
    "\n",
    "mean_absolute_error_true_signal = np.nansum(np.absolute(truth.d['sample']['signal'] - (mixed - truth.d['sample']['true_bias']))) / divisor\n",
    "mean_absolute_error_estimated_signal = np.nansum(np.absolute(truth.d['sample']['signal'] - results['estimated_signal'])) / divisor\n",
    "print 'mean_absolute_error_true_signal', mean_absolute_error_true_signal\n",
    "print 'mean_absolute_error_estimated_signal', mean_absolute_error_estimated_signal\n",
    "\n",
    "mean_absolute_error_zeros = np.nansum(np.absolute(truth.d['sample']['signal'] - mixed)) / divisor\n",
    "print 'mean_absolute_error_zeros', mean_absolute_error_zeros\n",
    "\n",
    "ratio_estimated_signal_to_zeros = mean_absolute_error_estimated_signal / mean_absolute_error_zeros\n",
    "print 'ratio_estimated_signal_to_zeros', ratio_estimated_signal_to_zeros\n",
    "    "
   ]
  }
 ],
 "metadata": {
  "kernelspec": {
   "display_name": "Python 2",
   "language": "python",
   "name": "python2"
  },
  "language_info": {
   "codemirror_mode": {
    "name": "ipython",
    "version": 2
   },
   "file_extension": ".py",
   "mimetype": "text/x-python",
   "name": "python",
   "nbconvert_exporter": "python",
   "pygments_lexer": "ipython2",
   "version": "2.7.12"
  }
 },
 "nbformat": 4,
 "nbformat_minor": 2
}
